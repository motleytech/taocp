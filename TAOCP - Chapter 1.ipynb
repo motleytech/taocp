{
 "cells": [
  {
   "cell_type": "markdown",
   "metadata": {},
   "source": [
    "### Euclid's Algorithm\n",
    "\n",
    "    E1. r = m % n\n",
    "    E2. if r == 0: return n\n",
    "    E3. m, n = n, r"
   ]
  },
  {
   "cell_type": "markdown",
   "metadata": {},
   "source": [
    "Working through the example for m = 119, n = 544\n",
    "\n",
    "    E1. r = 119\n",
    "    E2. r != 0                 # step skipped\n",
    "    E3. m = 544, n = 119       # if n > m: m and n exchanged in first pass\n",
    "\n",
    "    E1. r = 68\n",
    "    E3. m = 119, n = 68\n",
    "\n",
    "    E1. r = 51\n",
    "    E3. m = 68, n = 51\n",
    "\n",
    "    E1. r = 17\n",
    "    E3. m = 51, n = 17\n",
    "\n",
    "    E1. r = 0\n",
    "    E2. n = 17 = GCD"
   ]
  },
  {
   "cell_type": "markdown",
   "metadata": {},
   "source": []
  },
  {
   "cell_type": "code",
   "execution_count": null,
   "metadata": {},
   "outputs": [],
   "source": []
  }
 ],
 "metadata": {
  "kernelspec": {
   "display_name": "Python 3",
   "language": "python",
   "name": "python3"
  },
  "language_info": {
   "codemirror_mode": {
    "name": "ipython",
    "version": 3
   },
   "file_extension": ".py",
   "mimetype": "text/x-python",
   "name": "python",
   "nbconvert_exporter": "python",
   "pygments_lexer": "ipython3",
   "version": "3.7.0b4"
  }
 },
 "nbformat": 4,
 "nbformat_minor": 2
}
