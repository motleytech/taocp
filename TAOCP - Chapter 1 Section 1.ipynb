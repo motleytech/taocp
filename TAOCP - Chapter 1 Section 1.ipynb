{
 "cells": [
  {
   "cell_type": "markdown",
   "metadata": {},
   "source": [
    "# 1.1 Algorithms\n",
    "\n",
    "### Euclid's Algorithm\n",
    "\n",
    "    E1. r = m % n\n",
    "    E2. if r == 0: return n\n",
    "    E3. m, n = n, r"
   ]
  },
  {
   "cell_type": "markdown",
   "metadata": {},
   "source": [
    "<hr>\n",
    "Working through the example for m = 119, n = 544\n",
    "\n",
    "    E1. r = 119\n",
    "    E2. r != 0                 # step skipped\n",
    "    E3. m = 544, n = 119       # if n > m: m and n exchanged in first pass\n",
    "\n",
    "    E1. r = 68\n",
    "    E3. m = 119, n = 68\n",
    "\n",
    "    E1. r = 51\n",
    "    E3. m = 68, n = 51\n",
    "\n",
    "    E1. r = 17\n",
    "    E3. m = 51, n = 17\n",
    "\n",
    "    E1. r = 0\n",
    "    E2. n = 17 = GCD"
   ]
  },
  {
   "cell_type": "markdown",
   "metadata": {},
   "source": [
    "<hr>\n",
    "\n",
    "“Assuming that the value of n is known but m is allowed to range over all positive integers, what is the average number of times, $T_n$, that step E1 of Algorithm E will be performed?”\n",
    "\n",
    "Lets write a program to find that...\n"
   ]
  },
  {
   "cell_type": "code",
   "execution_count": 37,
   "metadata": {},
   "outputs": [
    {
     "name": "stdout",
     "output_type": "stream",
     "text": [
      "   n     avg    comp\n",
      "  50  4.2200  4.0527\n",
      " 100  4.5600  4.6095\n",
      " 150  4.7800  4.9353\n",
      " 200  5.0700  5.1664\n",
      " 250  5.5160  5.3456\n",
      " 300  5.1600  5.4921\n",
      " 350  5.5229  5.6160\n",
      " 400  5.6350  5.7232\n",
      " 450  5.5889  5.8179\n",
      " 500  5.9040  5.9025\n",
      "1000  6.4220  6.4594\n",
      "1500  6.5467  6.7851\n",
      "2000  6.9990  7.0162\n",
      "2500  7.2832  7.1955\n",
      "3000  7.0540  7.3420\n",
      "3500  7.3394  7.4658\n",
      "4000  7.5695  7.5731\n",
      "4500  7.3689  7.6677\n",
      "5000  7.7884  7.7523\n",
      "10000  8.3366  8.3092\n",
      "15000  8.4108  8.6349\n",
      "20000  8.9083  8.8661\n",
      "25000  9.1545  9.0453\n",
      "30000  8.9659  9.1918\n",
      "35000  9.1999  9.3156\n",
      "40000  9.4858  9.4229\n",
      "45000  9.2357  9.5175\n",
      "50000  9.6952  9.6022\n"
     ]
    }
   ],
   "source": [
    "from math import log as ln\n",
    "\n",
    "def countAvgSteps(n):\n",
    "    count = 0\n",
    "    for m in range(0, n):\n",
    "        steps = 1   \n",
    "        p, q = n, m\n",
    "        while q != 0:\n",
    "            p = p % q\n",
    "            p, q = q, p\n",
    "            steps += 1\n",
    "        count += steps\n",
    "    return float(count) / n\n",
    "\n",
    "print('%4s  %6s  %6s' % ('n', 'avg', 'comp'))\n",
    "for n in range(50, 500, 50):\n",
    "    print('%4s  %6.4f  %6.4f' % (n, countAvgSteps(n), 0.9098386 + 0.803376*ln(n)))\n",
    "for n in range(500, 5000, 500):\n",
    "    print('%4s  %6.4f  %6.4f' % (n, countAvgSteps(n), 0.9098386 + 0.803376*ln(n)))\n",
    "for n in range(5000, 50001, 5000):\n",
    "    print('%4s  %6.4f  %6.4f' % (n, countAvgSteps(n), 0.9098386 + 0.803376*ln(n)))\n",
    "    "
   ]
  },
  {
   "cell_type": "markdown",
   "metadata": {},
   "source": [
    "Using simple curve fitting, we see that the average number of steps is proportional log(n). In the above table, the computed values (comp column) from the curve fitted equation `0.9098386 + 0.803376*log(n)` fits the given average values reasonably well.\n",
    "\n",
    "This strongly suggests that the average running time of the GCD algorithm is $\\propto log(n)$. Finding the exact value of $T_n$ is apparently a very difficult problem (according to the text... we will find out more about that in chapter 4)."
   ]
  },
  {
   "cell_type": "markdown",
   "metadata": {},
   "source": [
    "## Exercises 1.1"
   ]
  },
  {
   "cell_type": "code",
   "execution_count": 1,
   "metadata": {},
   "outputs": [
    {
     "name": "stdout",
     "output_type": "stream",
     "text": [
      "0 1 2 3\n",
      "1 2 3 0\n"
     ]
    }
   ],
   "source": [
    "# 1.1.1\n",
    "\n",
    "# a, b, c, d -> b, c, d, a\n",
    "\n",
    "a, b, c, d = range(4)\n",
    "\n",
    "print (a, b, c, d)\n",
    "\n",
    "t = a\n",
    "a = b\n",
    "b = c\n",
    "c = d\n",
    "d = t\n",
    "\n",
    "print (a, b, c, d)\n"
   ]
  },
  {
   "cell_type": "markdown",
   "metadata": {},
   "source": [
    "##### 1.1.2\n",
    "\n",
    "**Prove that m is always greater than n at the beginning of step E1,\n",
    "except possibly the first time this step occurs**\n",
    "\n",
    "The inputs m and n for algorithm E are both positive integers.\n",
    "\n",
    "From E1, r = m % n; r is the remainder when n divides m. This implies that r < n.\n",
    "\n",
    "In E3, we assign **m, n = n, r**, and we showed that r < n, thus n < m after the assignment in E3.\n",
    "\n",
    "So the second time onwards, m > n every time in step E1.\n"
   ]
  },
  {
   "cell_type": "markdown",
   "metadata": {},
   "source": [
    "##### 1.1.3\n",
    "\n",
    "**Change algorithm E to avoid all trivial replacements (for efficiency)**\n",
    "\n",
    "    E1. r = m % n\n",
    "    E2. if r == 0: return n\n",
    "    E3. m = n, n = r\n",
    "\n",
    "**Algorithm F**\n",
    "\n",
    "    F1. m = m % n\n",
    "    F2. if m == 0: return n\n",
    "    F3. n = n % m\n",
    "    F4. if n == 0: return m\n"
   ]
  },
  {
   "cell_type": "code",
   "execution_count": 1,
   "metadata": {},
   "outputs": [],
   "source": [
    "# comparing the efficiencies of algorithms E vs F\n",
    "\n",
    "def gcdE(m, n):\n",
    "    while True:\n",
    "        r = m % n\n",
    "        if not r:\n",
    "            return n\n",
    "        m, n = n, r\n",
    "        \n",
    "def gcdF(m, n):\n",
    "    while True:\n",
    "        m = m % n\n",
    "        if not m:\n",
    "            return n\n",
    "        n = n % m\n",
    "        if not n:\n",
    "            return m\n",
    "\n",
    "        \n",
    "def fibo(n):\n",
    "    if n < 2:\n",
    "        return n\n",
    "    a, b = 0, 1\n",
    "    while n > 1:\n",
    "        a, b = b, a + b\n",
    "        n -= 1\n",
    "    return b\n",
    "\n",
    "m, n = fibo(50), fibo(49)"
   ]
  },
  {
   "cell_type": "code",
   "execution_count": 2,
   "metadata": {},
   "outputs": [
    {
     "name": "stdout",
     "output_type": "stream",
     "text": [
      "The slowest run took 12.84 times longer than the fastest. This could mean that an intermediate result is being cached.\n",
      "100000 loops, best of 3: 4.18 µs per loop\n",
      "100000 loops, best of 3: 3.29 µs per loop\n"
     ]
    }
   ],
   "source": [
    "%timeit gcdE(m, n)\n",
    "%timeit gcdF(m, n)"
   ]
  },
  {
   "cell_type": "markdown",
   "metadata": {
    "variables": {
     "'%3.0f' % (100 - 3.29 * 100 / 4.18)": " 21"
    }
   },
   "source": [
    "The above result shows that gcdF is about {{'%3.0f' % (100 - 3.29 * 100 / 4.18)}}% faster than gcdE."
   ]
  },
  {
   "cell_type": "markdown",
   "metadata": {
    "variables": {
     "gcdF(2166, 6099)": "57"
    }
   },
   "source": [
    "#### 1.1.4\n",
    "\n",
    "**What is the GCD of 2166 and 6099?**\n",
    "\n",
    "Using our gcdF method defind above, `gcdF(2166, 6099) == {{gcdF(2166, 6099)}}`"
   ]
  },
  {
   "cell_type": "markdown",
   "metadata": {},
   "source": [
    "##### 1.1.5\n",
    "\n",
    "**Show that the \"Procedure for Reading this set of books\" fails to be a genuine algorithm on 3/5 counts.**\n",
    "\n",
    "The 5 characteristics of an algorithm are...\n",
    "\n",
    "    - finiteness\n",
    "    - definiteness\n",
    "    - input\n",
    "    - output\n",
    "    - effectiveness\n",
    "    \n",
    "The \"Procedure for Reading...\" fails on the following :\n",
    "\n",
    "- The procedure is infinite.\n",
    "- There is no proper output (also because the procedure is infinite)\n",
    "- Step 9/12/13 lack in definiteness/effectiveness. Difficult to define \"mathematically inclined\" precisely."
   ]
  },
  {
   "cell_type": "markdown",
   "metadata": {
    "variables": {
     "13/5.0": "2.6"
    }
   },
   "source": [
    "##### 1.1.6\n",
    "\n",
    "**What is $T_5$, the average number of times step E1 is performed when n = 5?**\n",
    "\n",
    "To find $T_5$, first we must find a way to calculate the number of steps for each value of *m*.\n",
    "\n",
    "We notice that every *m* can be written as $m = pn + k$, where $p \\ge 0$ and $ 1 \\le k \\le n$. Looking at algorithm E, we can see that when the first time E1 is executed, $r = k \\% n$.\n",
    "\n",
    "This implies that the value of *p* has no bearing on the number of times E1 is executed. It is sufficient to look only at all possible values of *k* (1 through 5).\n",
    "\n",
    "| k        | successive E1 values (k, n) | times E1 is performed ($V_{nk}$) |\n",
    "| -------- | ------------ | -----|\n",
    "| 1 | (1, 5) (5, 1)       |    2 |\n",
    "| 2 | (2, 5) (5, 2) (2, 1) |    3 |\n",
    "| 3 | (3, 5) (5, 3) (3, 2) (2, 1) |    4 |\n",
    "| 4 | (4, 5) (5, 4) (4, 1) |    3 |\n",
    "| 5 | (5, 5)       |    1 |\n",
    "\n",
    "$T_5$ = Average number of times E1 is performed, when n=5, is {{13/5.0}}"
   ]
  },
  {
   "cell_type": "markdown",
   "metadata": {},
   "source": [
    "##### 1.1.7\n",
    "\n",
    "**Suppose that *m* is known and *n* is allowed to range over all positive integers; let $U_m$ be the average number of times that step E1 is executed. Show that $U_m$ is well defined. Is $U_m$ in any way related to $T_m$?**\n",
    "\n",
    "Let us first show that $T_n$ is well defined.\n",
    "\n",
    "As we reasoned in 1.1.6, for any *n*, *m* is of the form $m = pn + k$ where $p \\ge 0$ and $1 \\le k \\le n$. Now, we construct a table in a manner similar to 1.1.6 for each value of *k*. Since $V_{nk}$ has a definite value for each *n* and *k*, and $T_n$ is the average value of $V_{nk}$, thus $T_n$ is well defined.\n",
    "\n",
    "\n",
    "Now, let us look at $U_m$.\n",
    "\n",
    "For a fixed *m* and varying *n*, we can divide the problem into 2 cases.\n",
    "\n",
    "- Case 1: $n \\le m$\n",
    "- Case 2: $n \\gt m$\n",
    "\n",
    "For case 1, let us compare this to the table in 1.1.6. There, we have a fixed *n* and varying *m* (or *k*). If we had started the algorithm with $n \\ge m$, then the first pass of algorithm E will exchange *m* and *n*, and then proceed as shown in the table.\n",
    "\n",
    "This implies that for case 1, the average number of steps $U_m = T_m - 1$.\n",
    "\n",
    "For case 2, the first pass will exchange *m* and *n*. From that point onwards, the algorithm will proceed exactly the same as 1.1.6. In this case, $U_m = T_m + 1$.\n",
    "\n",
    "Except some finite number of values, $n \\gt m$, thus we can ignore the result from Case 1 and the result for Case 2 is the result we want.\n",
    "\n",
    "Thus, $U_m = T_m + 1$.\n",
    "\n",
    "Since $T_m$ is well defined, $U_m$ is also well defined."
   ]
  },
  {
   "cell_type": "markdown",
   "metadata": {},
   "source": [
    "##### 1.1.8\n",
    "\n",
    "**Give a formal algorithm for GCD by specifying $\\theta_j, \\phi_j, a_j$ and $b_j$. Input is of the form $a^mb^n$**\n",
    "\n",
    "An important trick here is to introduce letter c in **A** to use as a temporary computation variable. Look up the solution in the back of the book. Solution copied here for easy access...\n",
    "\n",
    "Let A = {a, b, c} and  N = 5\n",
    "\n",
    "The following table gives values for $\\theta_j, \\phi_j, a_j$ and $b_j$ for $0 \\le j \\le 4$\n",
    "\n",
    "| *j*  | $\\theta_j$ | $\\phi_j$ | $a_j$ | $b_j$ | comment |\n",
    "| ---- | ---- | ---- | ---- | ---- | ---- |\n",
    "| 0 | ab | (empty) | 1 | 2 | (Remove ab and goto 1, or goto 2) |\n",
    "| 1 | (empty) | c | 0 | 0 | (add c to left end and goto 0) |\n",
    "| 2 | a | b | 2 | 3 | replace(a, b) |\n",
    "| 3 | c | a | 3 | 4 | replace(c, a) |\n",
    "| 4 | b | b | 0 | 5 | if there are more b's, goto 0, else end |\n",
    "\n"
   ]
  },
  {
   "cell_type": "markdown",
   "metadata": {},
   "source": [
    "##### 1.1.9\n",
    "**Suppose C1 and C2 are comuptational methods, where C1 might stand for the algorithm E and C2 stands for its computer implementation. Formulate a set-theoretic definition of the concept \"C2 is a representation of C1\", or \"C2 simulates C1\"**\n",
    "\n",
    "**We thereby obtain a rigorous interpretation of the statement \"Program X is an implementation of the Algorithm Y\"**\n",
    "\n",
    "Having little formal training is set-theory and almost no idea of what a \"set-theoretic\" definition might look like... I am going to answer this in pretty layman way.\n",
    "\n",
    "Program C2 can be said to simulate Algorithm C1, if, for all reasonable inputs $a \\in A$ and outputs $b \\in B$, C2(a) = b iff C1(a) = b. We are using a form of C1 and C2 which look like functions. Also, by \"reasonable inputs and outputs\", I mean that the computer carrying out C2 must be capable of handling the inputs, outputs and all intermediate calculations.\n",
    "\n",
    "\n",
    "In other words, if identical inputs produce identical outputs for all reasonable inputs to C1 \n",
    "and C2, then C2 is an implementation of C1."
   ]
  },
  {
   "cell_type": "markdown",
   "metadata": {},
   "source": []
  }
 ],
 "metadata": {
  "kernelspec": {
   "display_name": "Python 2",
   "language": "python",
   "name": "python2"
  },
  "language_info": {
   "codemirror_mode": {
    "name": "ipython",
    "version": 2
   },
   "file_extension": ".py",
   "mimetype": "text/x-python",
   "name": "python",
   "nbconvert_exporter": "python",
   "pygments_lexer": "ipython2",
   "version": "2.7.14"
  }
 },
 "nbformat": 4,
 "nbformat_minor": 2
}
