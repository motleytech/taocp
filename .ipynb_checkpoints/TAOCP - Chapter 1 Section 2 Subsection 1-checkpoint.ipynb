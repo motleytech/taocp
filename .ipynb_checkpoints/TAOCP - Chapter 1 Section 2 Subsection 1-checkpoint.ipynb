{
 "cells": [
  {
   "cell_type": "markdown",
   "metadata": {},
   "source": [
    "# 1.2 Mathematical Preliminaries\n",
    "<br><hr>"
   ]
  },
  {
   "cell_type": "markdown",
   "metadata": {},
   "source": [
    "###### 1.2.1.1\n",
    "\n",
    "**Explain how to modify the idea of proof by mathematical induction, in case we want to prove some statement *P(n)* for all nonnegative integers - that is, for n=0,1,2,... instead of for n=1,2,3,...**\n",
    "\n",
    "Just start at n = 0, instead of n = 1."
   ]
  },
  {
   "cell_type": "markdown",
   "metadata": {},
   "source": [
    "##### 1.2.1.2\n",
    "\n",
    "**There must be something wrong with the following proof. What is it?**\n",
    "\n",
    "**Theorem :** Let *a* be any positive number. For all positive numbers *n* we have $a^{n-1} = 1$. *Proof.* If $n = 1$, $a^{n-1} = a^{1-1} = a^0 = 1$. And by induction, assuming that the theorem is true for 1,2,..., n, we have\n",
    "\n",
    "$$a^{(n+1) - 1} = a^n = \\frac{a^{n-1} \\times a^{n-1}}{a^{(n-1) - 1}} = \\frac{1 \\times 1}{1} = 1;$$\n",
    "\n",
    "**Solution :** For proving the case for *n+1*, the above proof uses the the assumptions that the theorem holds for both *n* and *n-1* ($a^{n-1} = 1$ and $a^{(n-1) - 1} = 1$). However, the only case proved rigorously is for n=1. At least 2 consecutive base cases must be proved rigorously (n = 1 and n = 2) in order to use 2 preceding values in the inductive proof."
   ]
  },
  {
   "cell_type": "markdown",
   "metadata": {},
   "source": [
    "##### 1.2.1.3\n",
    "\n",
    "Solution: LHS is not defined for the `n = 1` case. "
   ]
  },
  {
   "cell_type": "markdown",
   "metadata": {},
   "source": [
    "##### 1.2.1.4\n",
    "\n",
    "**Prove that $\\phi^{n-2} \\le F_n$.**\n",
    "\n",
    "\n",
    "Solution : The equation holds for n = 2, $\\phi^0 = 1 \\le F_2 = 1$ and n = 3, $\\phi < 1.7 \\le F_3 = 2$\n",
    "\n",
    "By induction, assuming that the equation also holds for 4,...,n, we have\n",
    "\n",
    "$$\\phi^{(n+1) - 2} = \\phi^{n-1} = \\phi^{(n-3) + 2} = \\phi^{(n-3)}\\times\\phi^2 = \\phi^{(n-3)}\\times(1 + \\phi) = \\phi^{(n-3)} + \\phi^{(n-2)} \\le F_{n-1} + F_{n} = F_{n+1}$$\n",
    "\n",
    "hence the equation is proved for n+1 as well."
   ]
  },
  {
   "cell_type": "markdown",
   "metadata": {},
   "source": [
    "##### 1.2.1.5\n",
    "\n",
    "**A prime number is an integer > 1 that has no exact divisors other than 1 and itself. Prove that every integer > 1 may be written as a product of one or more prime numbers**\n",
    "\n",
    "Solution : As base cases, we show that 2,3,4 can be written as 2, 3 and 2*2 respectively as products of one or more prime numbers.\n",
    "\n",
    "By induction, assuming that the statement holds for 5,...,n, we show that (n+1) can be written as a product of one or more primes.\n",
    "\n",
    "Now, either (n+1) is a prime, in which case, it can be written as a single term product of primes - (n+1).\n",
    "\n",
    "If (n+1) is not a prime, then, it can be written as a product of 2 smaller numbers (a, b), and $1 < a, b \\le n$. By our induction hypothesis, both a and b can be written as product of primes, and thus $a \\times b$ can also be written as a product of primes.\n",
    "\n",
    "Hence the theorem is proved."
   ]
  },
  {
   "cell_type": "markdown",
   "metadata": {},
   "source": [
    "##### 1.2.1.6\n",
    "\n",
    "**Prove that if Eqn (6) hold before step E4 is performed, they hold afterwards also.**\n",
    "\n",
    "$$a'm + b'n = c, am + bn = d$$\n",
    "\n",
    "Solution : We perform the following actions at step E4...\n",
    "\n",
    "$$ c_{new} = d $$\n",
    "$$ d_{new} = r $$\n",
    "$$ (e, e') = (a' -qa, a) $$\n",
    "$$ (f, f') = (b' -qb, b) $$\n",
    "\n",
    "We want to show that $e'm + f'n = c_{new}$ and $em + fn = d_{new}$\n",
    "\n",
    "From the given equations, we have\n",
    "\n",
    "$$ am + bn = d $$\n",
    "\n",
    "since $c_{new}$ gets the value of d, $e' = a$ and $f' = b$, we get\n",
    "\n",
    "$$ e'm + f'n = c_{new} $$\n",
    "\n",
    "That proves the first equation.\n",
    "\n",
    "$$ a'm + b'n = c $$\n",
    "\n",
    "we know that $ c = qd + r $,\n",
    "\n",
    "$$ a'm + b'n = qd + r $$\n",
    "\n",
    "$$ a'm + b'n = q(am + bn) + r $$\n",
    "\n",
    "$$ a'm - aqm + b'n - bqn = r $$\n",
    "\n",
    "$$ (a' - aq)m + (b' - bq)n = d_{new} $$\n",
    "\n",
    "$$ em + fn = d_{new} $$\n",
    "\n",
    "which proves the second equation.\n"
   ]
  },
  {
   "cell_type": "markdown",
   "metadata": {},
   "source": [
    "##### 1.2.1.7\n",
    "\n",
    "**Formulate and prove a rule for the sums $1^2$, $2^2 - 1^1$, $3^3 - 2^2 + 1^2$,... etc**\n",
    "\n",
    "Solution : Lets take a look at the first few terms. We will write a python program to calculate these for us..."
   ]
  },
  {
   "cell_type": "code",
   "execution_count": 1,
   "metadata": {},
   "outputs": [
    {
     "name": "stdout",
     "output_type": "stream",
     "text": [
      "[1, 3, 6, 10, 15, 21, 28, 36, 45]\n"
     ]
    }
   ],
   "source": [
    "def altSumDiffSquares(n):\n",
    "    s = 0\n",
    "    sign = 1\n",
    "    while n > 0:\n",
    "        s += sign * n * n\n",
    "        n -= 1\n",
    "        sign *= -1\n",
    "        \n",
    "    return s\n",
    "\n",
    "print ([altSumDiffSquares(k) for k in range(1, 10)])"
   ]
  },
  {
   "cell_type": "markdown",
   "metadata": {},
   "source": [
    "The above looks remarkably like the sum of the first n numbers...\n",
    "\n",
    "$$\\large{\\Sigma_1^n} k = \\frac{n(n+1)}{2}$$\n",
    "\n",
    "Let us assume it is so and try to prove it by induction.\n",
    "\n",
    "For n = 1, we see that $1^2 = 1$, so the base case is trivially proved. By induction, assuming that the equation holds for 1,2,3,...,n, for the n+1 case, we have\n",
    "\n",
    "$$ (n+1)^2 - n^2 + (n-1)^2 - (n-2)^2 + ..... - 1$$\n",
    "$$ \\implies (n+1)^2 - \\frac{n(n+1)}{2} $$\n",
    "$$ \\implies \\frac{2(n+1)^2 - n(n+1)}{2} $$\n",
    "$$ \\implies \\frac{(2n^2 + 2 + 4n) - n^2 - n}{2} $$\n",
    "$$ \\implies \\frac{n^2 + 2 + 3n}{2} $$\n",
    "$$ \\implies \\frac{(n+1)(n+2)}{2} $$\n",
    "\n",
    "This is the expected value for n+1, which proves the equation for all n."
   ]
  },
  {
   "cell_type": "markdown",
   "metadata": {},
   "source": [
    "##### 1.2.1.8\n",
    "\n",
    "**Prove the theorem of Nicomachus by induction : $ 1^3 = 1, 2^3 = 3 + 5, 3^3 = 7 + 9 + 11, 4^3 = 13 + 15 + 17 + 19  \\cdots$. Use the result to prove the formula : **\n",
    "\n",
    "$$ 1^3 + 2^3 + 3^3 + 4^3 + \\cdots +  n^3 = (1 + 2 + 3 + \\cdots + n) ^ 2 $$\n",
    "\n",
    "Solution : The base cases for the Theorem of Nicomachus are already demonstrated in the problem statement. We notice that the summation for $n^3$ can be written in terms of $(n-1)^3$ in the following manner...\n",
    "\n",
    "$$ n^3 = (n-1)^3 + (n-1)*2*(n-1) + n^2 + n-1 $$\n",
    "\n",
    "\n",
    "By induction, we assume that the above theorem is true for values $1 \\cdots n$, and for the n+1 case, we get...\n",
    "\n",
    "$$ (n+1)^3 = n^3 + 2n^2 + (n+1)^2 + n $$\n",
    "$$ (n+1)^3 = n^3 + 2n^2 + n^2 + 2n + 1 + n $$\n",
    "$$ (n+1)^3 = n^3 + 3n^2 + 3n + 1 $$\n",
    "$$ (n+1)^3 = (n+1)^3 $$\n",
    "\n",
    "This proves the theorem for all n.\n",
    "\n",
    "**Use this result to prove the remarkable formula $ \\sum n^3 = ( \\sum n ) ^2$**\n",
    "\n",
    "Solution: The result above shows that $ \\sum_{k=1}^{n} k^3  = \\sum_{k=1}^{\\frac{n(n+1}{2}} 2k - 1 $\n",
    "\n",
    "$$ = (\\sum_{k=1}^{\\frac{n(n+1}{2}} 2k) - \\frac{n(n+1)}{2} $$\n",
    "$$ = 2 \\frac{ \\frac{n(n+1)}{2} (\\frac{n(n+1)}{2} + 1)}{2} - \\frac{n(n+1)}{2} $$\n",
    "$$ = \\frac{n(n+1)}{2} (\\frac{n(n+1)}{2} + 1) - \\frac{n(n+1)}{2} $$\n",
    "$$ = \\frac{n(n+1)}{2} (\\frac{n(n+1)}{2}) $$\n",
    "$$ = (\\frac{n(n+1)}{2})^2 $$\n",
    "\n",
    "This proves the required result."
   ]
  },
  {
   "cell_type": "markdown",
   "metadata": {},
   "source": [
    "##### 1.2.1.9\n",
    "\n",
    "**Prove by induction that if $0 < a < 1$, then $(1-a)^n \\ge 1 - na$.**\n",
    "\n",
    "Solution: For the first few values of n...\n",
    "\n",
    "$$ (1 - a)^0 = 1 \\ge (1 - 0a) = 1 $$\n",
    "$$ (1 - a)^1 = 1 - a \\ge 1 - a $$\n",
    "$$ (1 - a)^2 = 1 + a^2 - 2a \\ge 1 - 2a $$\n",
    "$$ (1 - a)^3 = 1 - 3a + 3a^2 - a^3 \\ge 1 - 3a $$\n",
    "\n",
    "The first 3 are obviously true. The last one is true because $3a^2 - a^3 = a^2(3 - a) > 0$.\n",
    "\n",
    "By induction, we assume that the above holds for all values of n=0...k. Then, for k+1, we have\n",
    "\n",
    "$$ (1 - a)^{k+1} = (1 - a)^k * (1 - a) = (1 - a)^k - a(1 - a)^k \\ge (1 - ka) - a(1 - ka) \\ge (1 - ka) - a $$\n",
    "\n",
    "We used the fact that $a \\ge a(1 - ka)$, which is true because $(1 - ka) \\le 1$.\n",
    "\n",
    "$$ \\implies (1 - a)^{k + 1} \\ge 1 - (k + 1)a $$\n",
    "\n",
    "This is the required proof for (k+1), which proves the equation for all n."
   ]
  },
  {
   "cell_type": "markdown",
   "metadata": {},
   "source": [
    "##### 1.2.1.10\n",
    "\n",
    "**Prove by induction that if $n \\ge 10$, then $2^n > n^3$.**\n",
    "\n",
    "Solution : Let us work out the first few cases...\n",
    "\n",
    "$$ 2^10 = 1024 \\ge 10^3 = 1000 $$\n",
    "$$ 2^11 = 2048 \\ge 11^3 = 1331 $$\n",
    "$$ 2^12 = 4096 \\ge 11^3 = 1728 $$\n",
    "\n",
    "Clearly, the first few cases are satisfied. By induction, we assume that the theorem holds for all value of $n = 0 ... k$. Then, for n = k + 1, we have\n",
    "\n",
    "$$ 2^{k+1} $$\n",
    "$$ = 2 * 2^k $$\n",
    "$$ \\ge 2 * k ^ 3 $$\n",
    "$$ = k^3 + k^3 $$\n",
    "$$ \\ge k^3 + 9k^2 $$\n",
    "$$ \\ge k^3 + 3k^2 + 3k^2 + 3k^2 $$\n",
    "$$ \\ge k^3 + 3k^2 + 3k + 1 $$\n",
    "$$ = (k + 1)^3 $$\n",
    "\n",
    "$$ 2^{k+1} \\ge (k + 1)^3 $$\n",
    "\n",
    "This proves the theorem for all n."
   ]
  },
  {
   "cell_type": "markdown",
   "metadata": {},
   "source": [
    "##### 1.2.1.11\n",
    "\n",
    "**Find the prove a simple formula for the sum**\n",
    "\n",
    "$$ \\frac{1^3}{1^4 + 4} - \\frac{3^3}{3^4 + 4} + \\frac{5^3}{5^4 + 4} - ... + \\frac{(-1)^n (2n + 1)^3}{(2n + 1)^4 + 4}$$\n",
    "\n",
    "Solution : Let the sum function be denoted by $f$. Lets write a program to look at the sum of the first few terms..."
   ]
  },
  {
   "cell_type": "code",
   "execution_count": 16,
   "metadata": {},
   "outputs": [
    {
     "data": {
      "text/latex": [
       "$$f(0) = \\frac{1}{5}, f(1) = \\frac{-2}{17}, f(2) = \\frac{3}{37}, f(3) = \\frac{-4}{65}, f(4) = \\frac{5}{101}, f(5) = \\frac{-6}{145}, f(6) = \\frac{7}{197}, f(7) = \\frac{-8}{257}, f(8) = \\frac{9}{325}, f(9) = \\frac{-10}{401}, $$"
      ],
      "text/plain": [
       "<IPython.core.display.Math object>"
      ]
     },
     "metadata": {},
     "output_type": "display_data"
    }
   ],
   "source": [
    "from pprint import pprint as pp\n",
    "from IPython.display import display, Math\n",
    "\n",
    "def gcd(m, n):\n",
    "    while True:\n",
    "        r = m % n\n",
    "        if r == 0:\n",
    "            return n\n",
    "        m, n = n, r\n",
    "    \n",
    "def prob11(n):\n",
    "    num = 0\n",
    "    den = 1\n",
    "    while n >= 0:\n",
    "        tn = int(pow(-1, n)) * int(pow(2 * n + 1, 3))\n",
    "        td = 4 + int(pow(2*n + 1, 4))\n",
    "        \n",
    "        nd = (den * td) / gcd(den, td)\n",
    "        tn = (tn * nd) / td\n",
    "        nn = (num * nd) / den + tn\n",
    "        \n",
    "        gc = gcd(nn, nd)\n",
    "        num, den = nn / gc, nd / gc\n",
    "        n -= 1\n",
    "        \n",
    "    return num, den\n",
    "\n",
    "results = [(x, prob11(x)) for x in range(10)]\n",
    "\n",
    "output = '$'\n",
    "for res in results:\n",
    "    output += r'f(%s) = \\frac{%s}{%s}, ' % (res[0], res[1][0], res[1][1])\n",
    "output += '$'\n",
    "\n",
    "display(Math(output))"
   ]
  },
  {
   "cell_type": "markdown",
   "metadata": {},
   "source": [
    "Numerator is obviously $(-1)^n (n+1)$. The denominator seems to a little more complicated. Looking at the first difference between the denominator terms,\n",
    "\n",
    "12, 20, 28, 36, 44,... etc.\n",
    "\n",
    "The difference seems to be increasing by 8 every term. The kth denominator can be written as the sum of the first k+1 terms of the series 1, 4, 12, 20, 28, 36, 44, ...\n",
    "\n",
    "$$ f(k) = 1 + 4 * \\sum_0^k (2k + 1) $$\n",
    "\n",
    "Also, we know that the sum of the first n odd numbers is $n^2$.\n",
    "\n",
    "$$ f(k) = 1 + 4 * (k+1)^2 $$\n",
    "\n",
    "The formula thus becomes \n",
    "\n",
    "$$ f(n) = \\frac{(-1)^{n} (n + 1)}{1 + 4(n + 1)^2} $$"
   ]
  },
  {
   "cell_type": "markdown",
   "metadata": {},
   "source": [
    "Let us now prove this using induction...\n",
    "\n",
    "$$ f(0) = \\frac{1}{5} , f(1) = \\frac{-2}{17}, etc$$\n",
    "\n",
    "This equation holds for $f(0)$ and $f(1)$. By induction, we assume that the formula holds for n = 1 ... k, then for n = k+1, we have\n",
    "\n",
    "$$ f(k + 1) = f(k) + \\frac{(-1)^{k + 1} (2(k+1) + 1)^3}{(2(k+1) + 1)^4 + 4}$$\n",
    "$$ f(k + 1) = \\frac{(-1)^k (k + 1)}{1 + 4(k + 1)^2} + \\frac{(-1)^{k + 1} (2(k+1) + 1)^3}{(2(k+1) + 1)^4 + 4}$$\n",
    "$$ f(k + 1) = \\frac{(-1)^{k + 1} (2(k+1) + 1)^3}{(2(k+1) + 1)^4 + 4} - \\frac{(-1)^{k+1} (k + 1)}{1 + 4(k + 1)^2}$$\n",
    "$$ f(k + 1) = \\frac{(-1)^{k + 1} (2k+3)^3}{(2k+3)^4 + 4} - \\frac{(-1)^{k+1} (k + 1)}{1 + 4(k + 1)^2}$$\n",
    "$$ f(k + 1) = (-1)^{k+1} \\big{(}\\frac{(2k+3)^3}{(2k+3)^4 + 4} - \\frac{(k + 1)}{1 + 4(k + 1)^2}\\big{)}$$\n",
    "\n",
    "$$ f(k + 1) = (-1)^{k+1} \\big{(} \\frac{(2k+3)^3 (1 + 4(k + 1)^2) - (k + 1)((2k+3)^4 + 4)}{((2k+3)^4 + 4)(1 + 4(k + 1)^2)} \\big{)}$$\n",
    "\n",
    "Using wolfram alpha to simplify the above algebraic fraction, we get...\n",
    "\n",
    "$$ f(k + 1) = (-1)^{k+1} \\big{(} \\frac{k+2}{4k^2 + 16k + 17} \\big{)}$$\n",
    "\n",
    "$$ f(k + 1) = (-1)^{k+1} \\big{(} \\frac{k+2}{1 + 4(k + 2)^2} \\big{)}$$\n",
    "\n",
    "This is the expected equation for $f(k+1)$, which proves the theorem for all n."
   ]
  },
  {
   "cell_type": "markdown",
   "metadata": {},
   "source": [
    "##### 1.2.1.12\n",
    "\n",
    "\n"
   ]
  }
 ],
 "metadata": {
  "kernelspec": {
   "display_name": "Python 2",
   "language": "python",
   "name": "python2"
  },
  "language_info": {
   "codemirror_mode": {
    "name": "ipython",
    "version": 2
   },
   "file_extension": ".py",
   "mimetype": "text/x-python",
   "name": "python",
   "nbconvert_exporter": "python",
   "pygments_lexer": "ipython2",
   "version": "2.7.14"
  }
 },
 "nbformat": 4,
 "nbformat_minor": 2
}
